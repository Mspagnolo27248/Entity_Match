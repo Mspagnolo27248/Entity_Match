{
 "cells": [
  {
   "cell_type": "markdown",
   "metadata": {},
   "source": [
    "# Process Steps"
   ]
  },
  {
   "cell_type": "markdown",
   "metadata": {},
   "source": [
    "1. Merge All tables from source A \n",
    "2. Merge All Tables from source B\n",
    "3. Heat map entitys to find dense columns\n",
    "4. Join columns city+ state+ zip code as one \n",
    "5. Clean the features being used by removing special characters and white space\n",
    "6. Create Block feature of the first 4 chars in the name \n",
    "7. use recordlinkage package to compute all possible match pairs for each record in Source A.\n",
    "8. use jarowinkler distance with threshold of .85 to match name and city_state_zip\n",
    "9. Filter the matchs for only those that match within threshold .85 for name and city_state_zip or those two and area_code\n",
    "10. merge source A to the _record_mapping_index and then to source B\n",
    "11. output entity: 'vendor_id','b_entity_id' to csv file."
   ]
  },
  {
   "cell_type": "code",
   "execution_count": 1,
   "metadata": {},
   "outputs": [],
   "source": [
    "import pandas as pd\n",
    "import numpy as np\n",
    "import matplotlib.pyplot as plt\n",
    "import seaborn as sns\n",
    "import time\n",
    "begin_time = time.time()"
   ]
  },
  {
   "cell_type": "code",
   "execution_count": 2,
   "metadata": {},
   "outputs": [
    {
     "name": "stderr",
     "output_type": "stream",
     "text": [
      "C:\\Users\\Michael\\anaconda3\\lib\\site-packages\\IPython\\core\\interactiveshell.py:3063: DtypeWarning: Columns (11,15) have mixed types.Specify dtype option on import or set low_memory=False.\n",
      "  interactivity=interactivity, compiler=compiler, result=result)\n"
     ]
    }
   ],
   "source": [
    "#Read in the Data\n",
    "a_company = pd.read_csv('./data/a__company.csv')\n",
    "a_geo = pd.read_csv('./data/a__geo.csv')\n",
    "b_company = pd.read_csv('./data/b__company.csv')\n",
    "b_address = pd.read_csv('./data/b__address.csv')\n",
    "b_hierarchy = pd.read_csv('./data/b__hierarchy.csv')"
   ]
  },
  {
   "cell_type": "code",
   "execution_count": 3,
   "metadata": {},
   "outputs": [],
   "source": [
    "#Join all Entites of source A\n",
    "a_all = a_company.merge(a_geo,how='left',left_on='geo_id',right_on='geo_id')\n",
    "#a_all.head(3)"
   ]
  },
  {
   "cell_type": "code",
   "execution_count": 4,
   "metadata": {},
   "outputs": [],
   "source": [
    "#Join all Entites of source B\n",
    "b_all = b_company.merge(b_address,how='left',left_on='b_entity_id',right_on='b_entity_id')\n",
    "#b_all.head(3)"
   ]
  },
  {
   "cell_type": "code",
   "execution_count": 5,
   "metadata": {},
   "outputs": [],
   "source": [
    "# Convert to String and Remove NaN from features and make all lower case.\n",
    "a_all['name'] = a_all['name'].fillna('').astype('str').str.lower() \n",
    "a_all['city'] = a_all['city'].fillna('').astype('str').str.lower() \n",
    "a_all['state'] = a_all['state'].fillna('').astype('str').str.lower()\n",
    "a_all['zipcode_y'] = a_all['zipcode_y'].fillna('').astype('str').str.lower()\n",
    "b_all['entity_name'] = b_all['entity_name'].fillna('').astype('str').str.lower()\n",
    "b_all['city_state_zip'] = b_all['city_state_zip'].fillna('').astype('str').str.lower()"
   ]
  },
  {
   "cell_type": "code",
   "execution_count": 6,
   "metadata": {},
   "outputs": [],
   "source": [
    "#clean_names: will remove special characters, whitespace.\n",
    "def clean_names(name):\n",
    "    return ''.join(e for e in name if e.isalnum())\n",
    "\n",
    "#Run clean_names on the name entities\n",
    "a_all['a_clean_name'] = a_all['name'].apply(clean_names)\n",
    "b_all['b_clean_name'] = b_all['entity_name'].apply(clean_names)\n",
    "\n",
    "#Transform features to create  city_state_zip\n",
    "a_all['a_city_state_zip'] = a_all['city']+a_all['state']+a_all['zipcode_y']\n",
    "b_all['b_city_state_zip'] = b_all['city_state_zip']\n",
    "\n",
    "#Clean the new city_state_zip feature\n",
    "a_all['a_city_state_zip'] = a_all['a_city_state_zip'].apply(clean_names)\n",
    "b_all['b_city_state_zip']  = b_all['b_city_state_zip'].apply(clean_names)\n",
    "\n",
    "#Clean the Area Code\n",
    "a_all['area_code'] = a_all['area_code'].fillna('')\n",
    "b_all['tele_area'] = b_all['tele_area'].fillna('')"
   ]
  },
  {
   "cell_type": "code",
   "execution_count": 7,
   "metadata": {},
   "outputs": [],
   "source": [
    "# Visualize Missing Data from A and B to help understand what features we can use.\n",
    "# sns.heatmap(a_all.isnull(), cbar=False).set_title('a_all')\n",
    "# plt.show()\n",
    "# sns.heatmap(b_all.isnull(), cbar=False).set_title('b_all')\n",
    "# plt.show()"
   ]
  },
  {
   "cell_type": "code",
   "execution_count": 8,
   "metadata": {},
   "outputs": [],
   "source": [
    "#a_all.to_csv('a_all.csv') #Send all Data to file\n",
    "#b_all.to_csv('b_all.csv') #Send all Data to file"
   ]
  },
  {
   "cell_type": "code",
   "execution_count": 9,
   "metadata": {},
   "outputs": [],
   "source": [
    "#Add Blocking Features to A and B\n",
    "a_all['blocks'] = a_all['a_clean_name'].str[0:4]\n",
    "#_all['blocks']\n",
    "b_all['blocks'] = b_all['b_clean_name'].str[0:4]\n",
    "#b_all['blocks']"
   ]
  },
  {
   "cell_type": "code",
   "execution_count": 10,
   "metadata": {},
   "outputs": [
    {
     "name": "stdout",
     "output_type": "stream",
     "text": [
      "63649784\n"
     ]
    }
   ],
   "source": [
    "import recordlinkage\n",
    "\n",
    "#Make record pairs\n",
    "indexer = recordlinkage.Index()\n",
    "indexer.block('blocks')\n",
    "candidate_links = indexer.index(a_all,b_all)\n",
    "print(len(candidate_links))"
   ]
  },
  {
   "cell_type": "code",
   "execution_count": 11,
   "metadata": {},
   "outputs": [],
   "source": [
    "#Run Algo on Pairs\n",
    "begin_time_match = time.time()\n",
    "compare_cl = recordlinkage.Compare()\n",
    "#jarowinkler or levenshtein\n",
    "compare_cl.string('a_clean_name','b_clean_name',method='jarowinkler',threshold = .85,label='clean_name')\n",
    "compare_cl.string('a_city_state_zip','b_city_state_zip',method='jarowinkler',threshold = .85,label='city_state_zip')\n",
    "#compare_cl.exact('area_code','tele_area',label='area_code')\n",
    "features = compare_cl.compute(candidate_links,a_all,b_all)\n"
   ]
  },
  {
   "cell_type": "code",
   "execution_count": 12,
   "metadata": {},
   "outputs": [
    {
     "name": "stdout",
     "output_type": "stream",
     "text": [
      "Elapsed time is 14.785258 minutes\n",
      "\n"
     ]
    }
   ],
   "source": [
    "end_time_match = time.time()\n",
    "print('Elapsed time is %f minutes\\n' %float((end_time_match-begin_time_match)/60))"
   ]
  },
  {
   "cell_type": "code",
   "execution_count": 13,
   "metadata": {},
   "outputs": [],
   "source": [
    "matches = features.reset_index()\n",
    "#matches.head()"
   ]
  },
  {
   "cell_type": "code",
   "execution_count": 14,
   "metadata": {},
   "outputs": [
    {
     "name": "stdout",
     "output_type": "stream",
     "text": [
      "4472\n"
     ]
    },
    {
     "data": {
      "text/html": [
       "<div>\n",
       "<style scoped>\n",
       "    .dataframe tbody tr th:only-of-type {\n",
       "        vertical-align: middle;\n",
       "    }\n",
       "\n",
       "    .dataframe tbody tr th {\n",
       "        vertical-align: top;\n",
       "    }\n",
       "\n",
       "    .dataframe thead th {\n",
       "        text-align: right;\n",
       "    }\n",
       "</style>\n",
       "<table border=\"1\" class=\"dataframe\">\n",
       "  <thead>\n",
       "    <tr style=\"text-align: right;\">\n",
       "      <th></th>\n",
       "      <th>level_0</th>\n",
       "      <th>level_1</th>\n",
       "      <th>clean_name</th>\n",
       "      <th>city_state_zip</th>\n",
       "    </tr>\n",
       "  </thead>\n",
       "  <tbody>\n",
       "    <tr>\n",
       "      <th>95</th>\n",
       "      <td>7090</td>\n",
       "      <td>117874</td>\n",
       "      <td>1.0</td>\n",
       "      <td>1.0</td>\n",
       "    </tr>\n",
       "    <tr>\n",
       "      <th>648</th>\n",
       "      <td>48059</td>\n",
       "      <td>117874</td>\n",
       "      <td>1.0</td>\n",
       "      <td>1.0</td>\n",
       "    </tr>\n",
       "    <tr>\n",
       "      <th>34287</th>\n",
       "      <td>299</td>\n",
       "      <td>58968</td>\n",
       "      <td>1.0</td>\n",
       "      <td>1.0</td>\n",
       "    </tr>\n",
       "    <tr>\n",
       "      <th>46637</th>\n",
       "      <td>386</td>\n",
       "      <td>49579</td>\n",
       "      <td>1.0</td>\n",
       "      <td>1.0</td>\n",
       "    </tr>\n",
       "    <tr>\n",
       "      <th>235157</th>\n",
       "      <td>2971</td>\n",
       "      <td>40291</td>\n",
       "      <td>1.0</td>\n",
       "      <td>1.0</td>\n",
       "    </tr>\n",
       "  </tbody>\n",
       "</table>\n",
       "</div>"
      ],
      "text/plain": [
       "        level_0  level_1  clean_name  city_state_zip\n",
       "95         7090   117874         1.0             1.0\n",
       "648       48059   117874         1.0             1.0\n",
       "34287       299    58968         1.0             1.0\n",
       "46637       386    49579         1.0             1.0\n",
       "235157     2971    40291         1.0             1.0"
      ]
     },
     "execution_count": 14,
     "metadata": {},
     "output_type": "execute_result"
    }
   ],
   "source": [
    "df = matches[(matches['clean_name']+matches['city_state_zip'])==2]\n",
    "print(len(df))\n",
    "df.head(5)"
   ]
  },
  {
   "cell_type": "code",
   "execution_count": 15,
   "metadata": {},
   "outputs": [
    {
     "data": {
      "text/plain": [
       "a_clean_name                  lhasallc\n",
       "a_city_state_zip    newtoncenterma2459\n",
       "Name: 7090, dtype: object"
      ]
     },
     "execution_count": 15,
     "metadata": {},
     "output_type": "execute_result"
    }
   ],
   "source": [
    "a_all.loc[7090,['a_clean_name','a_city_state_zip']] # Example Match from Table A"
   ]
  },
  {
   "cell_type": "code",
   "execution_count": 16,
   "metadata": {},
   "outputs": [
    {
     "data": {
      "text/plain": [
       "b_clean_name                 lhasallc\n",
       "b_city_state_zip    newtonma024593604\n",
       "Name: 117874, dtype: object"
      ]
     },
     "execution_count": 16,
     "metadata": {},
     "output_type": "execute_result"
    }
   ],
   "source": [
    "b_all.loc[117874,['b_clean_name','b_city_state_zip']] # Example Match from Table B"
   ]
  },
  {
   "cell_type": "code",
   "execution_count": 17,
   "metadata": {
    "scrolled": true
   },
   "outputs": [],
   "source": [
    "#Merge Table A with the multiindex mapping and table B\n",
    "output = a_all.merge(df,left_index=True,right_on='level_0')\n",
    "output=output.merge(b_all,how='left',left_on='level_1',right_index=True)\n",
    "#output.columns"
   ]
  },
  {
   "cell_type": "code",
   "execution_count": 18,
   "metadata": {
    "scrolled": true
   },
   "outputs": [
    {
     "name": "stdout",
     "output_type": "stream",
     "text": [
      "4472\n"
     ]
    },
    {
     "data": {
      "text/html": [
       "<div>\n",
       "<style scoped>\n",
       "    .dataframe tbody tr th:only-of-type {\n",
       "        vertical-align: middle;\n",
       "    }\n",
       "\n",
       "    .dataframe tbody tr th {\n",
       "        vertical-align: top;\n",
       "    }\n",
       "\n",
       "    .dataframe thead th {\n",
       "        text-align: right;\n",
       "    }\n",
       "</style>\n",
       "<table border=\"1\" class=\"dataframe\">\n",
       "  <thead>\n",
       "    <tr style=\"text-align: right;\">\n",
       "      <th></th>\n",
       "      <th>a_city_state_zip</th>\n",
       "      <th>b_city_state_zip</th>\n",
       "      <th>a_clean_name</th>\n",
       "      <th>b_clean_name</th>\n",
       "      <th>level_0</th>\n",
       "      <th>level_1</th>\n",
       "    </tr>\n",
       "  </thead>\n",
       "  <tbody>\n",
       "    <tr>\n",
       "      <th>10779943</th>\n",
       "      <td>helenamt59604</td>\n",
       "      <td>helenamt59623</td>\n",
       "      <td>lewisclarkcountyof</td>\n",
       "      <td>lewisclarkcountyofmt</td>\n",
       "      <td>6</td>\n",
       "      <td>33175</td>\n",
       "    </tr>\n",
       "    <tr>\n",
       "      <th>33260942</th>\n",
       "      <td>lancasterky40444</td>\n",
       "      <td>lancasterpa17608</td>\n",
       "      <td>lancastercityof</td>\n",
       "      <td>lancastercityofpa</td>\n",
       "      <td>27</td>\n",
       "      <td>40109</td>\n",
       "    </tr>\n",
       "    <tr>\n",
       "      <th>33261269</th>\n",
       "      <td>lancasterky40444</td>\n",
       "      <td>lancasteroh43130</td>\n",
       "      <td>lancastercityof</td>\n",
       "      <td>lancastercityofoh</td>\n",
       "      <td>27</td>\n",
       "      <td>103232</td>\n",
       "    </tr>\n",
       "    <tr>\n",
       "      <th>42352614</th>\n",
       "      <td>chestertownmd21620</td>\n",
       "      <td>chestertownmd21620</td>\n",
       "      <td>lamottechemicalproductsco</td>\n",
       "      <td>lamottechemicalproductscoinc</td>\n",
       "      <td>68</td>\n",
       "      <td>56505</td>\n",
       "    </tr>\n",
       "    <tr>\n",
       "      <th>39529969</th>\n",
       "      <td>atlantaga30309</td>\n",
       "      <td>atlantaga30349</td>\n",
       "      <td>logisticare</td>\n",
       "      <td>logisticareinc</td>\n",
       "      <td>98</td>\n",
       "      <td>984</td>\n",
       "    </tr>\n",
       "  </tbody>\n",
       "</table>\n",
       "</div>"
      ],
      "text/plain": [
       "            a_city_state_zip    b_city_state_zip               a_clean_name  \\\n",
       "10779943       helenamt59604       helenamt59623         lewisclarkcountyof   \n",
       "33260942    lancasterky40444    lancasterpa17608            lancastercityof   \n",
       "33261269    lancasterky40444    lancasteroh43130            lancastercityof   \n",
       "42352614  chestertownmd21620  chestertownmd21620  lamottechemicalproductsco   \n",
       "39529969      atlantaga30309      atlantaga30349                logisticare   \n",
       "\n",
       "                          b_clean_name  level_0  level_1  \n",
       "10779943          lewisclarkcountyofmt        6    33175  \n",
       "33260942             lancastercityofpa       27    40109  \n",
       "33261269             lancastercityofoh       27   103232  \n",
       "42352614  lamottechemicalproductscoinc       68    56505  \n",
       "39529969                logisticareinc       98      984  "
      ]
     },
     "execution_count": 18,
     "metadata": {},
     "output_type": "execute_result"
    }
   ],
   "source": [
    "print(len(output)) # Length of final output\n",
    "output.loc[:,['a_city_state_zip','b_city_state_zip','a_clean_name','b_clean_name','level_0','level_1']].head(5)"
   ]
  },
  {
   "cell_type": "code",
   "execution_count": 20,
   "metadata": {},
   "outputs": [],
   "source": [
    "#Final Mapping\n",
    "output[['vendor_id','b_entity_id']].to_csv('mapping.csv',index=False)\n",
    "       \n",
    "# A more detailed File\n",
    "output.loc[:,['a_city_state_zip','b_city_state_zip','a_clean_name','b_clean_name',\\\n",
    "             'level_0','level_1']].to_csv('output_detail.csv',index=False)"
   ]
  },
  {
   "cell_type": "code",
   "execution_count": 23,
   "metadata": {},
   "outputs": [
    {
     "name": "stdout",
     "output_type": "stream",
     "text": [
      "Elapsed time is 15.000000 minutes\n",
      "\n"
     ]
    }
   ],
   "source": [
    "end_time = time.time()\n",
    "print('Elapsed time is %f minutes\\n' %float((end_time-begin_time)/60))"
   ]
  }
 ],
 "metadata": {
  "kernelspec": {
   "display_name": "Python 3",
   "language": "python",
   "name": "python3"
  },
  "language_info": {
   "codemirror_mode": {
    "name": "ipython",
    "version": 3
   },
   "file_extension": ".py",
   "mimetype": "text/x-python",
   "name": "python",
   "nbconvert_exporter": "python",
   "pygments_lexer": "ipython3",
   "version": "3.7.6"
  }
 },
 "nbformat": 4,
 "nbformat_minor": 4
}
